{
 "cells": [
  {
   "cell_type": "code",
   "execution_count": null,
   "metadata": {},
   "outputs": [],
   "source": [
    "%cd /content/Poly-Encoder/\n",
    "\n",
    "!python run.py \\\n",
    "--bert_model models/bert/ \\\n",
    "--model_type bert \\\n",
    "--output_dir /content/Poly-Encoder/result/{Train_Save_Folder} \\\n",
    "--train_dir datasets/ \\\n",
    "--train_file dasan_train_data.pickle \\\n",
    "--valid_file dasan_train_data.pickle \\\n",
    "--use_pretrain \\\n",
    "--architecture cross \\\n",
    "--poly_m 16 \\\n",
    "--train_batch_size 2 \\\n",
    "--eval_batch_size 2 \\\n",
    "--max_contexts_length 256 \\\n",
    "--max_response_length 256 \\\n",
    "--num_train_epochs 1000"
   ]
  }
 ],
 "metadata": {
  "language_info": {
   "name": "python"
  },
  "orig_nbformat": 4
 },
 "nbformat": 4,
 "nbformat_minor": 2
}
